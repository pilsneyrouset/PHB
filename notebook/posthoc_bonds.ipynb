{
 "cells": [
  {
   "cell_type": "code",
   "execution_count": 1,
   "metadata": {},
   "outputs": [
    {
     "name": "stdout",
     "output_type": "stream",
     "text": [
      "Requirement already satisfied: numpy in c:\\users\\65jlp\\anaconda3\\lib\\site-packages (1.26.4)\n",
      "Requirement already satisfied: sanssouci in c:\\users\\65jlp\\anaconda3\\lib\\site-packages (0.1.3)\n",
      "Requirement already satisfied: joblib>=1.0.1 in c:\\users\\65jlp\\anaconda3\\lib\\site-packages (from sanssouci) (1.1.0)\n",
      "Requirement already satisfied: scipy>=1.0.0 in c:\\users\\65jlp\\anaconda3\\lib\\site-packages (from sanssouci) (1.13.1)\n",
      "Requirement already satisfied: scikit-learn>=0.22 in c:\\users\\65jlp\\anaconda3\\lib\\site-packages (from sanssouci) (1.0.2)\n",
      "Requirement already satisfied: numpy>=1.15.0 in c:\\users\\65jlp\\anaconda3\\lib\\site-packages (from sanssouci) (1.26.4)\n",
      "Requirement already satisfied: threadpoolctl>=2.0.0 in c:\\users\\65jlp\\anaconda3\\lib\\site-packages (from scikit-learn>=0.22->sanssouci) (2.2.0)\n"
     ]
    },
    {
     "name": "stderr",
     "output_type": "stream",
     "text": [
      "ERROR: Could not find a version that satisfies the requirement unittest (from versions: none)\n",
      "ERROR: No matching distribution found for unittest\n"
     ]
    }
   ],
   "source": [
    "!pip install numpy\n",
    "!pip install sanssouci\n",
    "!pip install unittest"
   ]
  },
  {
   "cell_type": "code",
   "execution_count": 2,
   "metadata": {},
   "outputs": [],
   "source": [
    "import numpy as np\n",
    "import matplotlib.pyplot as plt\n",
    "import unittest\n",
    "from sanssouci import curve_max_fp, find_largest_region"
   ]
  },
  {
   "cell_type": "code",
   "execution_count": 3,
   "metadata": {},
   "outputs": [],
   "source": [
    "def interpolation_naif(p_values: list, thresholds: list, zeta: list=[k for k in range(5000)]) -> int:\n",
    "    \"Naive calculus posthoc bounds\"\n",
    "    p_values = np.sort(p_values)\n",
    "    K = len(thresholds)\n",
    "    kmax = min(len(p_values), K)\n",
    "    B = []\n",
    "    for k in range(kmax):\n",
    "        compteur = 0\n",
    "        for p_value in p_values:\n",
    "            if p_value >= thresholds[k]:\n",
    "                compteur += 1\n",
    "        B.append(compteur + zeta[k])\n",
    "    if min(B) <= len(p_values):\n",
    "        print(\"La borne correspond au k :\", np.argmin(B))\n",
    "    else:\n",
    "        print(\"Nous avons la borne triviale\")\n",
    "    return min(min(B), len(p_values))"
   ]
  },
  {
   "cell_type": "code",
   "execution_count": 4,
   "metadata": {},
   "outputs": [],
   "source": [
    "def interpolation(p_values: list, thresholds: list, zeta: list=[k for k in range(5000)]) -> int:\n",
    "    \"Calcul posthoc bounds\"\n",
    "    p_values = np.sort(p_values)\n",
    "    K = len(thresholds)\n",
    "    kmax = min(len(p_values), K)\n",
    "    B = []\n",
    "    i_start = 0\n",
    "    for k in range(kmax):\n",
    "        i = i_start\n",
    "        while i < len(p_values) and p_values[i] < thresholds[k]:\n",
    "            i += 1\n",
    "            i_start = i\n",
    "        B.append(len(p_values) - i + zeta[k]) # k est un cas particulier de Zeta_k\n",
    "    # if min(B) <= len(p_values):\n",
    "    #     # print(\"La borne correspond au k\", np.argmin(B))\n",
    "    # else:\n",
    "    #     print(\"Nous avons la borne triviale\")\n",
    "    # return min(min(B), len(p_values))\n",
    "    return np.argmin(B)"
   ]
  },
  {
   "cell_type": "markdown",
   "metadata": {},
   "source": [
    "Quelle est la complexité de cet algorithme?\n",
    "Trier la liste des p-valeurs : O(slog(s))\n",
    "Parcourir la liste des indices k : O(k)\n",
    "Parcourir la liste des p-valeurs : O(log(s))\n",
    "Chercher le minimum dans la liste ?"
   ]
  },
  {
   "cell_type": "code",
   "execution_count": 5,
   "metadata": {},
   "outputs": [],
   "source": [
    "def interpolation_bis(p_values: list, thresholds:list, zeta: list=[k for k in range(5000)]) -> int:\n",
    "    p_values = np.sort(p_values)\n",
    "    s = len(p_values)\n",
    "    K = len(thresholds)\n",
    "    B = []\n",
    "    k, i = 0, 0\n",
    "    while k < K and i < s:\n",
    "        if p_values[i] < thresholds[k]:\n",
    "            i += 1\n",
    "        else:\n",
    "            B.append(s - i + zeta[k])\n",
    "            k += 1\n",
    "    B.append(s - i + zeta[k])\n",
    "    if min(B) < len(p_values):\n",
    "            print(\"La borne correspond au k :\", np.argmin(B))\n",
    "    else:\n",
    "        print(\"Nous avons la borne triviale\")\n",
    "    return min(min(B), len(p_values))\n"
   ]
  },
  {
   "cell_type": "code",
   "execution_count": 6,
   "metadata": {},
   "outputs": [],
   "source": [
    "def interpolation_minmax_naif(p_values: list, thresholds: list, kmin:int, kmax: int, zeta: list=[k for k in range(5000)]) -> int:\n",
    "    \"Naive calculus of the posthoc bounds with kmin and kmax\"\n",
    "    p_values = np.sort(p_values)\n",
    "    B = []\n",
    "    if kmin == kmax:\n",
    "        return len(p_values)\n",
    "    else:\n",
    "        for k in range(kmin, kmax):\n",
    "            compteur = 0\n",
    "            for p_value in p_values:\n",
    "                if p_value >= thresholds[k]:\n",
    "                    compteur += 1\n",
    "            B.append(compteur + zeta[k])\n",
    "        if min(B) <= len(p_values):\n",
    "            print(\"La borne correspond au k :\", np.argmin(B))\n",
    "        else:\n",
    "            print(\"Nous avons la borne triviale\")\n",
    "        return min(min(B), len(p_values))"
   ]
  },
  {
   "cell_type": "code",
   "execution_count": 7,
   "metadata": {},
   "outputs": [],
   "source": [
    "def interpolation_minmax(p_values: list, thresholds: list, kmin: int, kmax: int, zeta: list= [k for k in range(5000)]) -> int:\n",
    "    \"La bound posthoc est calculée pour les k compris entre kmin et kmax\"\n",
    "    p_values = np.sort(p_values)\n",
    "    B = []\n",
    "    i_start = 0\n",
    "    if kmin == kmax:\n",
    "        i = 0\n",
    "        while i < len(p_values):\n",
    "            if p_values[i] < thresholds[kmax - 1]:\n",
    "                i += 1\n",
    "            else:\n",
    "                return min(len(p_values) - i + zeta[kmax - 1], len(p_values))\n",
    "    else:\n",
    "        for k in range(kmin, min(kmax, len(p_values))):\n",
    "            i = i_start\n",
    "            while i < len(p_values) and p_values[i] < thresholds[k]:\n",
    "                    i += 1\n",
    "                    i_start = i\n",
    "            B.append(len(p_values) - i + zeta[k]) # k est un cas particulier de Zeta_k\n",
    "        if min(B) < len(p_values):\n",
    "            print(\"La borne correspond au k :\", np.argmin(B))\n",
    "        else:\n",
    "            print(\"Nous avons la borne triviale\")\n",
    "        return min(min(B), len(p_values))"
   ]
  },
  {
   "cell_type": "code",
   "execution_count": 8,
   "metadata": {},
   "outputs": [],
   "source": [
    "m = 1000\n",
    "alpha = 0.9\n",
    "K = 500\n",
    "\n",
    "np.random.seed(23)\n",
    "values = np.linspace(0, 1, 300)\n",
    "# p_values = values ** 2\n",
    "p_values = [np.random.beta(a=k, b=m-k+1) for k in range(1, K)]\n",
    "thresholds = np.array([alpha*k/m for k in range(K)])"
   ]
  },
  {
   "cell_type": "code",
   "execution_count": 9,
   "metadata": {},
   "outputs": [
    {
     "name": "stdout",
     "output_type": "stream",
     "text": [
      "La borne correspond au k : 2\n"
     ]
    },
    {
     "data": {
      "text/plain": [
       "497"
      ]
     },
     "execution_count": 9,
     "metadata": {},
     "output_type": "execute_result"
    }
   ],
   "source": [
    "interpolation_minmax(p_values, thresholds, kmin=0, kmax=K)"
   ]
  },
  {
   "cell_type": "code",
   "execution_count": 10,
   "metadata": {},
   "outputs": [],
   "source": [
    "def linear_interpolation(p_values : list, thresholds: list, kmin: int=0)-> list:\n",
    "    p_values = np.sort(p_values)\n",
    "    s = len(p_values)\n",
    "    K = len(thresholds)\n",
    "    tau = np.zeros(s)\n",
    "    for k in range(s):\n",
    "        if k < kmin:\n",
    "            tau[k] = 0\n",
    "        elif kmin <= k < K:\n",
    "            tau[k] = thresholds[k]\n",
    "        else:\n",
    "            tau[k] = thresholds[K-1]\n",
    "    kappa = np.ones(s, dtype=int)*s\n",
    "    r = np.ones(s, dtype=int)*s\n",
    "    k, i = 0, 0\n",
    "    while k < s and i < s:\n",
    "        if p_values[i] < tau[k]:\n",
    "            kappa[i] = k\n",
    "            i += 1\n",
    "        else:\n",
    "            r[k] = i\n",
    "            k += 1\n",
    "    V, A, M = np.zeros(s), np.zeros(s), np.zeros(s)\n",
    "    M[0] = r[0]\n",
    "    for k in range(s):\n",
    "        A[k] = r[k] - k\n",
    "        if k > 0:\n",
    "            M[k] = max(M[k-1], A[k])      \n",
    "    for i in range(s):\n",
    "        if kappa[i] > 0:\n",
    "            V[i] = int(min(kappa[i], i+1 - M[kappa[i]-1]))\n",
    "    return v"
   ]
  },
  {
   "cell_type": "code",
   "execution_count": 11,
   "metadata": {},
   "outputs": [],
   "source": [
    "def interpolation_segments(p_values: list, thresholds: list, L: list)-> int:\n",
    "    \"La bound posthoc est calculée pour les k entre les (kmin, kmax)\"\n",
    "    return min([interpolation_minmax(p_values, thresholds, kmin= element[0], kmax=element[1]) for element in L])"
   ]
  },
  {
   "cell_type": "code",
   "execution_count": 12,
   "metadata": {},
   "outputs": [],
   "source": [
    "def linear_interpolation_zeta(p_values: list, thresholds: list, zeta: list, kmin: int=0) -> list:\n",
    "    p_values = np.sort(p_values)\n",
    "    s = len(p_values)\n",
    "    K = len(thresholds)\n",
    "    tau = np.zeros(K)\n",
    "    ksi = np.zeros(K)\n",
    "    K = max(s, K)\n",
    "    for k in range(K):\n",
    "        if k < kmin:\n",
    "            tau[k] = 0\n",
    "            ksi[k] = zeta[k]\n",
    "        elif kmin <= k < len(thresholds):\n",
    "            tau[k] = thresholds[k]\n",
    "            ksi[k] = zeta[k]\n",
    "        else:\n",
    "            tau[k] = thresholds[len(thresholds)-1]\n",
    "            ksi[k] = zeta[len(thresholds)-1]\n",
    "    kappa = np.ones(K, dtype=int)*K\n",
    "    r = np.ones(K, dtype=int)*s\n",
    "    k, i = 0, 0\n",
    "    while k < K and i < s:\n",
    "        if p_values[i] < tau[k]:\n",
    "            kappa[i] = k\n",
    "            i += 1\n",
    "        else:\n",
    "            r[k] = i\n",
    "            k += 1\n",
    "    V, A, M = np.zeros(s), np.zeros(K), np.zeros(K)\n",
    "    M[0] = r[0]\n",
    "    for k in range(K):\n",
    "        A[k] = r[k] - ksi[k]\n",
    "        if k > 0:\n",
    "            M[k] = max(M[k-1], A[k])\n",
    "    for i in range(s):\n",
    "        if kappa[i] > 0:\n",
    "            V[i] = int(min(ksi[kappa[i]], i+1 - M[kappa[i]-1]))\n",
    "    return V"
   ]
  },
  {
   "cell_type": "code",
   "execution_count": 14,
   "metadata": {},
   "outputs": [],
   "source": [
    "m = 10000\n",
    "alpha = 0.9\n",
    "K = 600\n",
    "s = 800\n",
    "np.random.seed(42)\n",
    "values = np.linspace(0, 1, s)\n",
    "# p_values = values ** 2\n",
    "p_values = [0]*s\n",
    "# p_values = [np.random.beta(a=k, b=m-k+1) for k in range(1, s+1)]\n",
    "thresholds = np.array([alpha*k/m for k in range(K)])\n",
    "# thresholds = np.sort(np.random.uniform(low=0, high=1, size=K))\n",
    "zeta = [k for k in range(K)]"
   ]
  },
  {
   "cell_type": "code",
   "execution_count": 15,
   "metadata": {},
   "outputs": [
    {
     "ename": "IndexError",
     "evalue": "index 600 is out of bounds for axis 0 with size 600",
     "output_type": "error",
     "traceback": [
      "\u001b[1;31m---------------------------------------------------------------------------\u001b[0m",
      "\u001b[1;31mIndexError\u001b[0m                                Traceback (most recent call last)",
      "Input \u001b[1;32mIn [15]\u001b[0m, in \u001b[0;36m<cell line: 1>\u001b[1;34m()\u001b[0m\n\u001b[1;32m----> 1\u001b[0m \u001b[43mlinear_interpolation_zeta\u001b[49m\u001b[43m(\u001b[49m\u001b[43mp_values\u001b[49m\u001b[43m,\u001b[49m\u001b[43m \u001b[49m\u001b[43mthresholds\u001b[49m\u001b[43m,\u001b[49m\u001b[43m \u001b[49m\u001b[43mzeta\u001b[49m\u001b[38;5;241;43m=\u001b[39;49m\u001b[43mzeta\u001b[49m\u001b[43m)\u001b[49m\n",
      "Input \u001b[1;32mIn [12]\u001b[0m, in \u001b[0;36mlinear_interpolation_zeta\u001b[1;34m(p_values, thresholds, zeta, kmin)\u001b[0m\n\u001b[0;32m     14\u001b[0m         ksi[k] \u001b[38;5;241m=\u001b[39m zeta[k]\n\u001b[0;32m     15\u001b[0m     \u001b[38;5;28;01melse\u001b[39;00m:\n\u001b[1;32m---> 16\u001b[0m         tau[k] \u001b[38;5;241m=\u001b[39m thresholds[\u001b[38;5;28mlen\u001b[39m(thresholds)\u001b[38;5;241m-\u001b[39m\u001b[38;5;241m1\u001b[39m]\n\u001b[0;32m     17\u001b[0m         ksi[k] \u001b[38;5;241m=\u001b[39m zeta[\u001b[38;5;28mlen\u001b[39m(thresholds)\u001b[38;5;241m-\u001b[39m\u001b[38;5;241m1\u001b[39m]\n\u001b[0;32m     18\u001b[0m kappa \u001b[38;5;241m=\u001b[39m np\u001b[38;5;241m.\u001b[39mones(K, dtype\u001b[38;5;241m=\u001b[39m\u001b[38;5;28mint\u001b[39m)\u001b[38;5;241m*\u001b[39mK\n",
      "\u001b[1;31mIndexError\u001b[0m: index 600 is out of bounds for axis 0 with size 600"
     ]
    }
   ],
   "source": [
    "linear_interpolation_zeta(p_values, thresholds, zeta=zeta)"
   ]
  }
 ],
 "metadata": {
  "kernelspec": {
   "display_name": "base",
   "language": "python",
   "name": "python3"
  },
  "language_info": {
   "codemirror_mode": {
    "name": "ipython",
    "version": 3
   },
   "file_extension": ".py",
   "mimetype": "text/x-python",
   "name": "python",
   "nbconvert_exporter": "python",
   "pygments_lexer": "ipython3",
   "version": "3.9.12"
  }
 },
 "nbformat": 4,
 "nbformat_minor": 2
}
