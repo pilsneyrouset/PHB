{
 "cells": [
  {
   "cell_type": "code",
   "execution_count": 2,
   "metadata": {},
   "outputs": [
    {
     "name": "stdout",
     "output_type": "stream",
     "text": [
      "Requirement already satisfied: numpy in c:\\users\\65jlp\\anaconda3\\lib\\site-packages (1.26.4)\n",
      "Requirement already satisfied: sanssouci in c:\\users\\65jlp\\anaconda3\\lib\\site-packages (0.1.3)\n",
      "Requirement already satisfied: scikit-learn>=0.22 in c:\\users\\65jlp\\anaconda3\\lib\\site-packages (from sanssouci) (1.0.2)\n",
      "Requirement already satisfied: numpy>=1.15.0 in c:\\users\\65jlp\\anaconda3\\lib\\site-packages (from sanssouci) (1.26.4)\n",
      "Requirement already satisfied: joblib>=1.0.1 in c:\\users\\65jlp\\anaconda3\\lib\\site-packages (from sanssouci) (1.1.0)\n",
      "Requirement already satisfied: scipy>=1.0.0 in c:\\users\\65jlp\\anaconda3\\lib\\site-packages (from sanssouci) (1.13.1)\n",
      "Requirement already satisfied: threadpoolctl>=2.0.0 in c:\\users\\65jlp\\anaconda3\\lib\\site-packages (from scikit-learn>=0.22->sanssouci) (2.2.0)\n"
     ]
    },
    {
     "name": "stderr",
     "output_type": "stream",
     "text": [
      "ERROR: Could not find a version that satisfies the requirement unittest (from versions: none)\n",
      "ERROR: No matching distribution found for unittest\n"
     ]
    }
   ],
   "source": [
    "!pip install numpy\n",
    "!pip install sanssouci\n",
    "!pip install unittest"
   ]
  },
  {
   "cell_type": "code",
   "execution_count": 3,
   "metadata": {},
   "outputs": [],
   "source": [
    "import numpy as np\n",
    "import matplotlib.pyplot as plt\n",
    "import unittest\n",
    "from sanssouci import curve_max_fp, find_largest_region"
   ]
  },
  {
   "cell_type": "code",
   "execution_count": 49,
   "metadata": {},
   "outputs": [],
   "source": [
    "def interpolation_naif(p_values: list, thresholds: list, zeta: list=[k for k in range(5000)]) -> int:\n",
    "    \"Naive calculus posthoc bounds\"\n",
    "    p_values = np.sort(p_values)\n",
    "    K = len(thresholds)\n",
    "    kmax = min(len(p_values), K)\n",
    "    B = []\n",
    "    for k in range(kmax):\n",
    "        compteur = 0\n",
    "        for p_value in p_values:\n",
    "            if p_value >= thresholds[k]:\n",
    "                compteur += 1\n",
    "        B.append(compteur + zeta[k])\n",
    "    if min(B) <= len(p_values):\n",
    "        print(\"La borne correspond au k :\", np.argmin(B))\n",
    "    else:\n",
    "        print(\"Nous avons la borne triviale\")\n",
    "    return min(min(B), len(p_values))"
   ]
  },
  {
   "cell_type": "code",
   "execution_count": 50,
   "metadata": {},
   "outputs": [],
   "source": [
    "def interpolation(p_values: list, thresholds: list, zeta: list=[k for k in range(5000)]) -> int:\n",
    "    \"Calcul posthoc bounds\"\n",
    "    p_values = np.sort(p_values)\n",
    "    K = len(thresholds)\n",
    "    kmax = min(len(p_values), K)\n",
    "    B = []\n",
    "    i_start = 0\n",
    "    for k in range(kmax):\n",
    "        i = i_start\n",
    "        while i < len(p_values) and p_values[i] < thresholds[k]:\n",
    "            i += 1\n",
    "            i_start = i\n",
    "        B.append(len(p_values) - i + zeta[k]) # k est un cas particulier de Zeta_k\n",
    "    if min(B) <= len(p_values):\n",
    "        print(\"La borne correspond au k\", np.argmin(B))\n",
    "    else:\n",
    "        print(\"Nous avons la borne triviale\")\n",
    "    return min(min(B), len(p_values))"
   ]
  },
  {
   "cell_type": "markdown",
   "metadata": {},
   "source": [
    "Quelle est la complexité de cet algorithme?\n",
    "Trier la liste des p-valeurs : O(slog(s))\n",
    "Parcourir la liste des indices k : O(k)\n",
    "Parcourir la liste des p-valeurs : O(log(s))\n",
    "Chercher le minimum dans la liste ?"
   ]
  },
  {
   "cell_type": "code",
   "execution_count": 51,
   "metadata": {},
   "outputs": [],
   "source": [
    "def interpolation_bis(p_values: list, thresholds:list, zeta: list=[k for k in range(5000)]) -> int:\n",
    "    p_values = np.sort(p_values)\n",
    "    s = len(p_values)\n",
    "    K = len(thresholds)\n",
    "    B = []\n",
    "    k, i = 0, 0\n",
    "    while k < K and i < s:\n",
    "        if p_values[i] < thresholds[k]:\n",
    "            i += 1\n",
    "        else:\n",
    "            B.append(s - i + zeta[k])\n",
    "            k += 1\n",
    "    B.append(s - i + zeta[k])\n",
    "    if min(B) < len(p_values):\n",
    "            print(\"La borne correspond au k :\", np.argmin(B))\n",
    "    else:\n",
    "        print(\"Nous avons la borne triviale\")\n",
    "    return min(min(B), len(p_values))\n"
   ]
  },
  {
   "cell_type": "code",
   "execution_count": 52,
   "metadata": {},
   "outputs": [],
   "source": [
    "def interpolation_minmax_naif(p_values: list, thresholds: list, kmin:int, kmax: int, zeta: list=[k for k in range(5000)]) -> int:\n",
    "    \"Naive calculus of the posthoc bounds with kmin and kmax\"\n",
    "    p_values = np.sort(p_values)\n",
    "    B = []\n",
    "    if kmin == kmax:\n",
    "        return len(p_values)\n",
    "    else:\n",
    "        for k in range(kmin, kmax):\n",
    "            compteur = 0\n",
    "            for p_value in p_values:\n",
    "                if p_value >= thresholds[k]:\n",
    "                    compteur += 1\n",
    "            B.append(compteur + zeta[k])\n",
    "        if min(B) <= len(p_values):\n",
    "            print(\"La borne correspond au k :\", np.argmin(B))\n",
    "        else:\n",
    "            print(\"Nous avons la borne triviale\")\n",
    "        return min(min(B), len(p_values))"
   ]
  },
  {
   "cell_type": "code",
   "execution_count": 53,
   "metadata": {},
   "outputs": [],
   "source": [
    "def interpolation_minmax(p_values: list, thresholds: list, kmin: int, kmax: int, zeta: list= [k for k in range(5000)]) -> int:\n",
    "    \"La bound posthoc est calculée pour les k compris entre kmin et kmax\"\n",
    "    p_values = np.sort(p_values)\n",
    "    B = []\n",
    "    i_start = 0\n",
    "    if kmin == kmax:\n",
    "        i = 0\n",
    "        while i < len(p_values):\n",
    "            if p_values[i] < thresholds[kmax - 1]:\n",
    "                i += 1\n",
    "            else:\n",
    "                return min(len(p_values) - i + zeta[kmax - 1], len(p_values))\n",
    "    else:\n",
    "        for k in range(kmin, min(kmax, len(p_values))):\n",
    "            i = i_start\n",
    "            while i < len(p_values) and p_values[i] < thresholds[k]:\n",
    "                    i += 1\n",
    "                    i_start = i\n",
    "            B.append(len(p_values) - i + zeta[k]) # k est un cas particulier de Zeta_k\n",
    "        if min(B) < len(p_values):\n",
    "            print(\"La borne correspond au k :\", np.argmin(B))\n",
    "        else:\n",
    "            print(\"Nous avons la borne triviale\")\n",
    "        return min(min(B), len(p_values))"
   ]
  },
  {
   "cell_type": "code",
   "execution_count": 54,
   "metadata": {},
   "outputs": [],
   "source": [
    "m = 1000\n",
    "alpha = 0.9\n",
    "K = 500\n",
    "\n",
    "np.random.seed(23)\n",
    "values = np.linspace(0, 1, 300)\n",
    "# p_values = values ** 2\n",
    "p_values = [np.random.beta(a=k, b=m-k+1) for k in range(1, K)]\n",
    "thresholds = np.array([alpha*k/m for k in range(K)])"
   ]
  },
  {
   "cell_type": "code",
   "execution_count": 55,
   "metadata": {},
   "outputs": [
    {
     "name": "stdout",
     "output_type": "stream",
     "text": [
      "La borne correspond au k : 2\n"
     ]
    },
    {
     "data": {
      "text/plain": [
       "497"
      ]
     },
     "execution_count": 55,
     "metadata": {},
     "output_type": "execute_result"
    }
   ],
   "source": [
    "interpolation_minmax(p_values, thresholds, kmin=0, kmax=K)"
   ]
  },
  {
   "cell_type": "code",
   "execution_count": 71,
   "metadata": {},
   "outputs": [],
   "source": [
    "def linear_interpolation(p_values : list, thresholds: list, kmin: int=0)-> list:\n",
    "    p_values = np.sort(p_values)\n",
    "    s = len(p_values)\n",
    "    K = len(thresholds)\n",
    "    tau = np.zeros(s)\n",
    "    for k in range(s):\n",
    "        if k < kmin:\n",
    "            tau[k] = 0\n",
    "        elif kmin <= k < K:\n",
    "            tau[k] = thresholds[k]\n",
    "        else:\n",
    "            tau[k] = thresholds[K-1]\n",
    "    kappa = np.ones(s, dtype=int)*s\n",
    "    r = np.ones(s, dtype=int)*s\n",
    "    k, i = 0, 0\n",
    "    while k < s and i < s:\n",
    "        if p_values[i] < tau[k]:\n",
    "            kappa[i] = k\n",
    "            i += 1\n",
    "        else:\n",
    "            r[k] = i\n",
    "            k += 1\n",
    "    V, A, M = np.zeros(s), np.zeros(s), np.zeros(s)\n",
    "    M[0] = r[0]\n",
    "    for k in range(s):\n",
    "        A[k] = r[k] - k\n",
    "        if k > 0:\n",
    "            M[k] = max(M[k-1], A[k])\n",
    "    Z = np.zeros(s)\n",
    "    indice = 0\n",
    "    value = M[0]\n",
    "    for i in range(s):\n",
    "        if M[i] < value:\n",
    "            value = M[i]\n",
    "            indice = i\n",
    "        Z[i] = indice\n",
    "    print(\"salut\", Z)\n",
    "    for i in range(s):\n",
    "        if kappa[i] > 0:\n",
    "            V[i] = int(min(kappa[i], i+1 - M[kappa[i]-1]))\n",
    "            if V[i] == kappa[i]:\n",
    "                Z[i] = None\n",
    "    print(\"Les argmin sont :\" )\n",
    "    return V"
   ]
  },
  {
   "cell_type": "code",
   "execution_count": 72,
   "metadata": {},
   "outputs": [
    {
     "name": "stdout",
     "output_type": "stream",
     "text": [
      "salut [0. 0. 0. 0. 0. 0. 0. 0. 0. 0. 0. 0. 0. 0. 0. 0. 0. 0. 0. 0. 0. 0. 0. 0.\n",
      " 0. 0. 0. 0. 0. 0. 0. 0. 0. 0. 0. 0. 0. 0. 0. 0. 0. 0. 0. 0. 0. 0. 0. 0.\n",
      " 0. 0. 0. 0. 0. 0. 0. 0. 0. 0. 0. 0. 0. 0. 0. 0. 0. 0. 0. 0. 0. 0. 0. 0.\n",
      " 0. 0. 0. 0. 0. 0. 0. 0. 0. 0. 0. 0. 0. 0. 0. 0. 0. 0. 0. 0. 0. 0. 0. 0.\n",
      " 0. 0. 0. 0. 0. 0. 0. 0. 0. 0. 0. 0. 0. 0. 0. 0. 0. 0. 0. 0. 0. 0. 0. 0.\n",
      " 0. 0. 0. 0. 0. 0. 0. 0. 0. 0. 0. 0. 0. 0. 0. 0. 0. 0. 0. 0. 0. 0. 0. 0.\n",
      " 0. 0. 0. 0. 0. 0. 0. 0. 0. 0. 0. 0. 0. 0. 0. 0. 0. 0. 0. 0. 0. 0. 0. 0.\n",
      " 0. 0. 0. 0. 0. 0. 0. 0. 0. 0. 0. 0. 0. 0. 0. 0. 0. 0. 0. 0. 0. 0. 0. 0.\n",
      " 0. 0. 0. 0. 0. 0. 0. 0. 0. 0. 0. 0. 0. 0. 0. 0. 0. 0. 0. 0. 0. 0. 0. 0.\n",
      " 0. 0. 0. 0. 0. 0. 0. 0. 0. 0. 0. 0. 0. 0. 0. 0. 0. 0. 0. 0. 0. 0. 0. 0.\n",
      " 0. 0. 0. 0. 0. 0. 0. 0. 0. 0. 0. 0. 0. 0. 0. 0. 0. 0. 0. 0. 0. 0. 0. 0.\n",
      " 0. 0. 0. 0. 0. 0. 0. 0. 0. 0. 0. 0. 0. 0. 0. 0. 0. 0. 0. 0. 0. 0. 0. 0.\n",
      " 0. 0. 0. 0. 0. 0. 0. 0. 0. 0. 0. 0. 0. 0. 0. 0. 0. 0. 0. 0. 0. 0. 0. 0.\n",
      " 0. 0. 0. 0. 0. 0. 0. 0. 0. 0. 0. 0. 0. 0. 0. 0. 0. 0. 0. 0. 0. 0. 0. 0.\n",
      " 0. 0. 0. 0. 0. 0. 0. 0. 0. 0. 0. 0. 0. 0. 0. 0. 0. 0. 0. 0. 0. 0. 0. 0.\n",
      " 0. 0. 0. 0. 0. 0. 0. 0. 0. 0. 0. 0. 0. 0. 0. 0. 0. 0. 0. 0. 0. 0. 0. 0.\n",
      " 0. 0. 0. 0. 0. 0. 0. 0. 0. 0. 0. 0. 0. 0. 0. 0. 0. 0. 0. 0. 0. 0. 0. 0.\n",
      " 0. 0. 0. 0. 0. 0. 0. 0. 0. 0. 0. 0. 0. 0. 0. 0. 0. 0. 0. 0. 0. 0. 0. 0.\n",
      " 0. 0. 0. 0. 0. 0. 0. 0. 0. 0. 0. 0. 0. 0. 0. 0. 0. 0. 0. 0. 0. 0. 0. 0.\n",
      " 0. 0. 0. 0. 0. 0. 0. 0. 0. 0. 0. 0. 0. 0. 0. 0. 0. 0. 0. 0. 0. 0. 0. 0.\n",
      " 0. 0. 0. 0. 0. 0. 0. 0. 0. 0. 0. 0. 0. 0. 0. 0. 0. 0. 0.]\n"
     ]
    },
    {
     "data": {
      "text/plain": [
       "array([  1.,   1.,   2.,   2.,   3.,   4.,   5.,   6.,   7.,   8.,   9.,\n",
       "        10.,  11.,  12.,  13.,  14.,  15.,  16.,  17.,  18.,  19.,  20.,\n",
       "        21.,  22.,  23.,  24.,  25.,  26.,  27.,  28.,  29.,  30.,  31.,\n",
       "        32.,  33.,  34.,  35.,  36.,  37.,  38.,  39.,  40.,  41.,  42.,\n",
       "        43.,  44.,  45.,  46.,  47.,  48.,  49.,  50.,  51.,  52.,  53.,\n",
       "        54.,  55.,  56.,  57.,  58.,  59.,  60.,  61.,  62.,  63.,  64.,\n",
       "        65.,  66.,  67.,  68.,  69.,  70.,  71.,  72.,  73.,  74.,  75.,\n",
       "        76.,  77.,  78.,  79.,  80.,  81.,  82.,  83.,  84.,  85.,  86.,\n",
       "        87.,  88.,  89.,  90.,  91.,  92.,  93.,  94.,  95.,  96.,  97.,\n",
       "        98.,  99., 100., 101., 102., 103., 104., 105., 106., 107., 108.,\n",
       "       109., 110., 111., 112., 113., 114., 115., 116., 117., 118., 119.,\n",
       "       120., 121., 122., 123., 124., 125., 126., 127., 128., 129., 130.,\n",
       "       131., 132., 133., 134., 135., 136., 137., 138., 139., 140., 141.,\n",
       "       142., 143., 144., 145., 146., 147., 148., 149., 150., 151., 152.,\n",
       "       153., 154., 155., 156., 157., 158., 159., 160., 161., 162., 163.,\n",
       "       164., 165., 166., 167., 168., 169., 170., 171., 172., 173., 174.,\n",
       "       175., 176., 177., 178., 179., 180., 181., 182., 183., 184., 185.,\n",
       "       186., 187., 188., 189., 190., 191., 192., 193., 194., 195., 196.,\n",
       "       197., 198., 199., 200., 201., 202., 203., 204., 205., 206., 207.,\n",
       "       208., 209., 210., 211., 212., 213., 214., 215., 216., 217., 218.,\n",
       "       219., 220., 221., 222., 223., 224., 225., 226., 227., 228., 229.,\n",
       "       230., 231., 232., 233., 234., 235., 236., 237., 238., 239., 240.,\n",
       "       241., 242., 243., 244., 245., 246., 247., 248., 249., 250., 251.,\n",
       "       252., 253., 254., 255., 256., 257., 258., 259., 260., 261., 262.,\n",
       "       263., 264., 265., 266., 267., 268., 269., 270., 271., 272., 273.,\n",
       "       274., 275., 276., 277., 278., 279., 280., 281., 282., 283., 284.,\n",
       "       285., 286., 287., 288., 289., 290., 291., 292., 293., 294., 295.,\n",
       "       296., 297., 298., 299., 300., 301., 302., 303., 304., 305., 306.,\n",
       "       307., 308., 309., 310., 311., 312., 313., 314., 315., 316., 317.,\n",
       "       318., 319., 320., 321., 322., 323., 324., 325., 326., 327., 328.,\n",
       "       329., 330., 331., 332., 333., 334., 335., 336., 337., 338., 339.,\n",
       "       340., 341., 342., 343., 344., 345., 346., 347., 348., 349., 350.,\n",
       "       351., 352., 353., 354., 355., 356., 357., 358., 359., 360., 361.,\n",
       "       362., 363., 364., 365., 366., 367., 368., 369., 370., 371., 372.,\n",
       "       373., 374., 375., 376., 377., 378., 379., 380., 381., 382., 383.,\n",
       "       384., 385., 386., 387., 388., 389., 390., 391., 392., 393., 394.,\n",
       "       395., 396., 397., 398., 399., 400., 401., 402., 403., 404., 405.,\n",
       "       406., 407., 408., 409., 410., 411., 412., 413., 414., 415., 416.,\n",
       "       417., 418., 419., 420., 421., 422., 423., 424., 425., 426., 427.,\n",
       "       428., 429., 430., 431., 432., 433., 434., 435., 436., 437., 438.,\n",
       "       439., 440., 441., 442., 443., 444., 445., 446., 447., 448., 449.,\n",
       "       450., 451., 452., 453., 454., 455., 456., 457., 458., 459., 460.,\n",
       "       461., 462., 463., 464., 465., 466., 467., 468., 469., 470., 471.,\n",
       "       472., 473., 474., 475., 476., 477., 478., 479., 480., 481., 482.,\n",
       "       483., 484., 485., 486., 487., 488., 489., 490., 491., 492., 493.,\n",
       "       494., 495., 496., 497.])"
      ]
     },
     "execution_count": 72,
     "metadata": {},
     "output_type": "execute_result"
    }
   ],
   "source": [
    "linear_interpolation(p_values, thresholds)"
   ]
  },
  {
   "cell_type": "code",
   "execution_count": 11,
   "metadata": {},
   "outputs": [],
   "source": [
    "def interpolation_segments(p_values: list, thresholds: list, L: list)-> int:\n",
    "    \"La bound posthoc est calculée pour les k entre les (kmin, kmax)\"\n",
    "    return min([interpolation_minmax(p_values, thresholds, kmin= element[0], kmax=element[1]) for element in L])"
   ]
  },
  {
   "cell_type": "code",
   "execution_count": 17,
   "metadata": {},
   "outputs": [],
   "source": [
    "def linear_interpolation_zeta(p_values: list, thresholds: list, zeta, kmin: int=0) -> list:\n",
    "    p_values = np.sort(p_values)\n",
    "    s = len(p_values)\n",
    "    K = len(thresholds)\n",
    "    K = max(s, K)\n",
    "    tau = np.zeros(K)\n",
    "    for k in range(K):\n",
    "        if k < kmin:\n",
    "            tau[k] = 0\n",
    "        elif kmin <= k < len(thresholds):\n",
    "            tau[k] = thresholds[k]\n",
    "        else:\n",
    "            tau[k] = thresholds[len(thresholds)-1]\n",
    "    kappa = np.ones(K, dtype=int)*K\n",
    "    r = np.ones(K, dtype=int)*s\n",
    "    k, i = 0, 0\n",
    "    while k < K and i < s:\n",
    "        if p_values[i] < tau[k]:\n",
    "            kappa[i] = k\n",
    "            i += 1\n",
    "        else:\n",
    "            r[k] = i\n",
    "            k += 1\n",
    "            \n",
    "    k, j = 0, 0\n",
    "    z = np.ones(K, dtype=int)*K\n",
    "    while k < K and j < s:\n",
    "        if zeta[k] >= j+1:\n",
    "            z[j] = k-1\n",
    "            j += 1\n",
    "        else:\n",
    "            k += 1\n",
    "    V, A, M = np.zeros(s), np.zeros(K), np.zeros(K)\n",
    "    M[0] = r[0]\n",
    "    for k in range(K):\n",
    "        A[k] = r[k] - zeta[k]\n",
    "        if k > 0:\n",
    "            M[k] = max(M[k-1], A[k])\n",
    "    for i in range(s):\n",
    "        if kappa[i] > 0:\n",
    "            V[i] = int(min(zeta[kappa[i]], i+1 - M[kappa[i]-1]))\n",
    "    return V"
   ]
  },
  {
   "cell_type": "code",
   "execution_count": 30,
   "metadata": {},
   "outputs": [],
   "source": [
    "m = 10000\n",
    "alpha = 0.9\n",
    "K = 600\n",
    "s = 800\n",
    "# np.random.seed(42)\n",
    "values = np.linspace(0, 1, s)\n",
    "# p_values = values ** 2\n",
    "# p_values = [1]*s\n",
    "# p_values = [np.random.beta(a=k, b=m-k+1) for k in range(1, s+1)]\n",
    "thresholds = np.array([alpha*k/m for k in range(K)])\n",
    "# thresholds = np.sort(np.random.uniform(low=0, high=1, size=K))"
   ]
  },
  {
   "cell_type": "code",
   "execution_count": 14,
   "metadata": {},
   "outputs": [],
   "source": [
    "zeta = [k**4 for k in range(5000)]"
   ]
  },
  {
   "cell_type": "code",
   "execution_count": 69,
   "metadata": {},
   "outputs": [
    {
     "data": {
      "text/plain": [
       "[0, 0, 0, 3, 3, 5, 5, 7]"
      ]
     },
     "execution_count": 69,
     "metadata": {},
     "output_type": "execute_result"
    }
   ],
   "source": [
    "M = np.array([4, 4, 4, 2, 2, 1, 1, 0])\n",
    "\n",
    "L = []\n",
    "valeur = M[0]\n",
    "indice = 0\n",
    "for k in range(len(M)):\n",
    "    if M[k] < valeur:\n",
    "        valeur = M[k]\n",
    "        indice = k\n",
    "    L.append(indice)\n",
    "L"
   ]
  }
 ],
 "metadata": {
  "kernelspec": {
   "display_name": "base",
   "language": "python",
   "name": "python3"
  },
  "language_info": {
   "codemirror_mode": {
    "name": "ipython",
    "version": 3
   },
   "file_extension": ".py",
   "mimetype": "text/x-python",
   "name": "python",
   "nbconvert_exporter": "python",
   "pygments_lexer": "ipython3",
   "version": "3.9.12"
  }
 },
 "nbformat": 4,
 "nbformat_minor": 2
}
